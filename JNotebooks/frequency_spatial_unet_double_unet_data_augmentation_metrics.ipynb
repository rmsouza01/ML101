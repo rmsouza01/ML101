{
 "cells": [
  {
   "cell_type": "markdown",
   "metadata": {},
   "source": [
    "# Hybrid Model - Metrics"
   ]
  },
  {
   "cell_type": "code",
   "execution_count": 1,
   "metadata": {},
   "outputs": [
    {
     "name": "stderr",
     "output_type": "stream",
     "text": [
      "/home/roberto/Documents/virtualenv/venv04/local/lib/python2.7/site-packages/dicom/__init__.py:53: UserWarning: \n",
      "This code is using an older version of pydicom, which is no longer \n",
      "maintained as of Jan 2017.  You can access the new pydicom features and API \n",
      "by installing `pydicom` from PyPI.\n",
      "See 'Transitioning to pydicom 1.x' section at pydicom.readthedocs.org \n",
      "for more information.\n",
      "\n",
      "  warnings.warn(msg)\n",
      "/home/roberto/Documents/virtualenv/venv04/local/lib/python2.7/site-packages/h5py/__init__.py:36: FutureWarning: Conversion of the second argument of issubdtype from `float` to `np.floating` is deprecated. In future, it will be treated as `np.float64 == np.dtype(float).type`.\n",
      "  from ._conv import register_converters as _register_converters\n"
     ]
    }
   ],
   "source": [
    "%matplotlib inline\n",
    "import matplotlib.pylab as plt\n",
    "import numpy as np\n",
    "import os \n",
    "import skimage.measure as meas\n",
    "import nibabel as nib\n",
    "import natsort\n",
    "import glob"
   ]
  },
  {
   "cell_type": "code",
   "execution_count": 2,
   "metadata": {},
   "outputs": [
    {
     "name": "stdout",
     "output_type": "stream",
     "text": [
      "/media/roberto/DATA/GDrive/MR-Data/Normative-Raw-Data/Test/e14296s4_P09216.7.npy\n",
      "../Hybrid-rec/e14296s4_P09216_hybrid.npy\n"
     ]
    }
   ],
   "source": [
    "orig = \"/media/roberto/DATA/GDrive/MR-Data/Normative-Raw-Data/Test/*.npy\"\n",
    "hybrid = \"../Hybrid-rec/*.npy\"\n",
    "\n",
    "orig = glob.glob(orig)\n",
    "hybrid = glob.glob(hybrid)\n",
    "\n",
    "orig = natsort.natsorted(orig)\n",
    "hybrid = natsort.natsorted(hybrid)\n",
    "print orig[0]\n",
    "print hybrid[0]\n",
    "ref = np.zeros((170*len(orig),256,256))\n",
    "hyb = np.zeros((170*len(hybrid),256,256))"
   ]
  },
  {
   "cell_type": "code",
   "execution_count": 3,
   "metadata": {},
   "outputs": [],
   "source": [
    "for ii in xrange(len(hybrid)):\n",
    "    aux1 = np.load(orig[ii])\n",
    "    aux1 = np.abs(np.fft.ifft2(aux1[:,:,:,0]+1j*aux1[:,:,:,1])).astype(np.float64)\n",
    "    ref[ii*170:(ii+1)*170,:,:] = aux1\n",
    "    aux2 = np.load(hybrid[ii]).astype(np.float64)\n",
    "    hyb[ii*170:(ii+1)*170,:,:] = aux2"
   ]
  },
  {
   "cell_type": "code",
   "execution_count": 4,
   "metadata": {},
   "outputs": [],
   "source": [
    "metrics = np.zeros((hyb.shape[0],3))\n",
    "for ii in xrange(hyb.shape[0]):  \n",
    "    metrics[ii,0] = meas.compare_ssim(ref[ii].ravel(),hyb[ii].ravel(),win_size = ref[ii].size-1)\n",
    "    metrics[ii,1] = meas.compare_nrmse(ref[ii],hyb[ii],'min-max')\n",
    "    metrics[ii,2] = meas.compare_psnr(ref[ii],hyb[ii],data_range=(ref[ii].max()-ref[ii].min())) "
   ]
  },
  {
   "cell_type": "code",
   "execution_count": 5,
   "metadata": {},
   "outputs": [
    {
     "name": "stdout",
     "output_type": "stream",
     "text": [
      "Hybrid\n",
      "0.978 +/- 0.077\n",
      "1.888 +/- 1.104\n",
      "35.229 +/- 3.206\n"
     ]
    }
   ],
   "source": [
    "metrics[:,1] = metrics[:,1]*100\n",
    "print \"Hybrid\"\n",
    "print \"%.3f +/- %.3f\" %(metrics[:,0].mean(),metrics[:,0].std())\n",
    "print \"%.3f +/- %.3f\" %(metrics[:,1].mean(),metrics[:,1].std())\n",
    "print \"%.3f +/- %.3f\" %(metrics[:,2].mean(),metrics[:,2].std())"
   ]
  }
 ],
 "metadata": {
  "kernelspec": {
   "display_name": "Python 2",
   "language": "python",
   "name": "python2"
  },
  "language_info": {
   "codemirror_mode": {
    "name": "ipython",
    "version": 2
   },
   "file_extension": ".py",
   "mimetype": "text/x-python",
   "name": "python",
   "nbconvert_exporter": "python",
   "pygments_lexer": "ipython2",
   "version": "2.7.12"
  }
 },
 "nbformat": 4,
 "nbformat_minor": 2
}
