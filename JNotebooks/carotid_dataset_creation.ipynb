{
 "cells": [
  {
   "cell_type": "markdown",
   "metadata": {},
   "source": [
    "# Carotid Dataset Creation\n",
    "\n",
    "In this notebook we will create a dataset of $256\\times256$ carotid slices that will be used to train a single image super-resolution convolutional neural network."
   ]
  },
  {
   "cell_type": "code",
   "execution_count": 1,
   "metadata": {},
   "outputs": [
    {
     "name": "stderr",
     "output_type": "stream",
     "text": [
      "/home/roberto/Documents/virtualenv/venv04/local/lib/python2.7/site-packages/h5py/__init__.py:36: FutureWarning: Conversion of the second argument of issubdtype from `float` to `np.floating` is deprecated. In future, it will be treated as `np.float64 == np.dtype(float).type`.\n",
      "  from ._conv import register_converters as _register_converters\n",
      "Using TensorFlow backend.\n"
     ]
    }
   ],
   "source": [
    "import numpy as np\n",
    "import nibabel as nib\n",
    "import os\n",
    "from scipy.misc import imsave\n",
    "from keras.preprocessing.image import ImageDataGenerator"
   ]
  },
  {
   "cell_type": "code",
   "execution_count": 2,
   "metadata": {},
   "outputs": [
    {
     "name": "stdout",
     "output_type": "stream",
     "text": [
      "Number of nifti files:  50\n",
      "Sampling rate per file:  1001\n"
     ]
    }
   ],
   "source": [
    "verbose = 1\n",
    "H1,W1 = 256,256 # Desired resolution\n",
    "\n",
    "nifti_path = \"/media/roberto/DATA/GDrive/MR-Data/Carotid/Original-nifti\"\n",
    "nifti_list = [os.path.join(nifti_path,f) for f in os.listdir(nifti_path) if not f.startswith(\"Kmd\")\\\n",
    "              and (not f.startswith(\"Djm\")) and f.endswith(\".nii.gz\")]\n",
    "\n",
    "out_path = \"/media/roberto/DATA/ML101/Data/carotid_slices\"\n",
    "\n",
    "nsamples = 50000 # Number of carotid MR slices\n",
    "nslices = nsamples/len(nifti_list) + 1\n",
    "\n",
    "if verbose:\n",
    "    print \"Number of nifti files: \", len(nifti_list)\n",
    "    print \"Sampling rate per file: \", nslices\n",
    "\n",
    "image_datagen = ImageDataGenerator(rotation_range=20,\n",
    "                                   width_shift_range=0.1,\n",
    "                                   height_shift_range=0.1,\n",
    "                                   shear_range=0.2,\n",
    "                                   zoom_range=0.15,\n",
    "                                   horizontal_flip=True,\n",
    "                                   vertical_flip=True, \n",
    "                                   fill_mode='constant',\n",
    "                                   cval = 0)    \n",
    "counter2 = 0  \n",
    "for ii in nifti_list:\n",
    "    volume = nib.load(ii).get_data().transpose(2,0,1)[:,:,:,np.newaxis]\n",
    "    volume = (255.0*(volume - volume.max())/(volume.max() - volume.min())).astype(np.uint8)\n",
    "    Z,H,W,_ = volume.shape\n",
    "    volume_aux = np.zeros((Z,256,256,1))\n",
    "    if H > H1: H = H1\n",
    "    if W > W1: W = W1\n",
    "    volume_aux[:,:H,:W,0] = volume[:,:H,:W,0]\n",
    "    image_generator = image_datagen.flow(volume_aux,batch_size = nslices)\n",
    "    counter = 0\n",
    "    for img in image_generator:\n",
    "        for jj in xrange(Z):\n",
    "            imsave(os.path.join(out_path,\"carotid_{0:0{width}}.png\".format(counter2,width = 6)),\\\n",
    "            img[jj,:,:,0])\n",
    "            counter+=1\n",
    "            counter2+=1\n",
    "        if counter > nslices: break    "
   ]
  }
 ],
 "metadata": {
  "kernelspec": {
   "display_name": "Python 2",
   "language": "python",
   "name": "python2"
  },
  "language_info": {
   "codemirror_mode": {
    "name": "ipython",
    "version": 2
   },
   "file_extension": ".py",
   "mimetype": "text/x-python",
   "name": "python",
   "nbconvert_exporter": "python",
   "pygments_lexer": "ipython2",
   "version": "2.7.12"
  }
 },
 "nbformat": 4,
 "nbformat_minor": 2
}
