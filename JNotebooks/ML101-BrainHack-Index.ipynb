{
 "cells": [
  {
   "cell_type": "markdown",
   "metadata": {},
   "source": [
    "# BrainHack Challenges\n",
    "\n",
    "This index presents the data organization and some sample code for the SP-AB BrainHack.\n",
    "\n",
    "\n",
    "## Compressed Sensing Magnetic Resonance Imaging Reconstruction\n",
    "\n",
    "- [Compressed Sensing Raw Data](compressed_sensing_raw_data.ipynb)\n",
    "- [Compressed Sensing Synthetic Data](compressed_sensing_synthetic_data.ipynb)"
   ]
  }
 ],
 "metadata": {
  "kernelspec": {
   "display_name": "Python 2",
   "language": "python",
   "name": "python2"
  },
  "language_info": {
   "codemirror_mode": {
    "name": "ipython",
    "version": 2
   },
   "file_extension": ".py",
   "mimetype": "text/x-python",
   "name": "python",
   "nbconvert_exporter": "python",
   "pygments_lexer": "ipython2",
   "version": "2.7.12"
  }
 },
 "nbformat": 4,
 "nbformat_minor": 2
}
